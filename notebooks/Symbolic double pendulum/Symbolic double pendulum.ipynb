{
 "cells": [
  {
   "cell_type": "markdown",
   "metadata": {},
   "source": [
    "## Setup"
   ]
  },
  {
   "cell_type": "code",
   "execution_count": 1,
   "metadata": {},
   "outputs": [
    {
     "name": "stdout",
     "output_type": "stream",
     "text": [
      "\u001b[32m\u001b[1m  Updating\u001b[22m\u001b[39m registry at `~/.julia/registries/General`\n",
      "\u001b[32m\u001b[1m  Updating\u001b[22m\u001b[39m git-repo `ssh://git@github.com/JuliaRegistries/General.git`\n",
      "\u001b[?25l\u001b[2K\u001b[?25h\u001b[32m\u001b[1mPrecompiling\u001b[22m\u001b[39m project...\n"
     ]
    }
   ],
   "source": [
    "using Pkg\n",
    "Pkg.activate(@__DIR__)\n",
    "pkg\"instantiate\"\n",
    "pkg\"precompile\""
   ]
  },
  {
   "cell_type": "code",
   "execution_count": 2,
   "metadata": {},
   "outputs": [
    {
     "name": "stderr",
     "output_type": "stream",
     "text": [
      "┌ Info: Recompiling stale cache file /Users/tkoolen/.julia/compiled/v1.0/RigidBodyDynamics/WeevQ.ji for RigidBodyDynamics [366cf18f-59d5-5db9-a4de-86a9f6786172]\n",
      "└ @ Base loading.jl:1190\n"
     ]
    }
   ],
   "source": [
    "using RigidBodyDynamics\n",
    "using StaticArrays\n",
    "using SymPy"
   ]
  },
  {
   "cell_type": "markdown",
   "metadata": {},
   "source": [
    "## Create symbolic parameters\n",
    "* Masses: $m_1, m_2$\n",
    "* Mass moments of inertia (about center of mass): $I_1, I_2$\n",
    "* Link lengths: $l_1, l_2$\n",
    "* Center of mass locations (w.r.t. preceding joint axis): $c_1, c_2$\n",
    "* Gravitational acceleration: $g$"
   ]
  },
  {
   "cell_type": "code",
   "execution_count": 3,
   "metadata": {},
   "outputs": [
    {
     "data": {
      "text/latex": [
       "\\begin{bmatrix}m_{1}&m_{2}&I_{1}&I_{2}&l_{1}&l_{2}&c_{1}&c_{2}&g\\end{bmatrix}"
      ],
      "text/plain": [
       "1×9 LinearAlgebra.Transpose{Sym,Array{Sym,1}}:\n",
       " m_1  m_2  I_1  I_2  l_1  l_2  c_1  c_2  g"
      ]
     },
     "execution_count": 3,
     "metadata": {},
     "output_type": "execute_result"
    }
   ],
   "source": [
    "inertias = @syms m_1 m_2 I_1 I_2 positive = true\n",
    "lengths = @syms l_1 l_2 c_1 c_2 real = true\n",
    "gravitational_acceleration = @syms g real = true\n",
    "params = [inertias..., lengths..., gravitational_acceleration...]\n",
    "transpose(params)"
   ]
  },
  {
   "cell_type": "markdown",
   "metadata": {},
   "source": [
    "## Create double pendulum `Mechanism`\n",
    "\n",
    "A `Mechanism` contains the joint layout and inertia parameters, but no state information."
   ]
  },
  {
   "cell_type": "code",
   "execution_count": 4,
   "metadata": {},
   "outputs": [
    {
     "data": {
      "text/plain": [
       "Spanning tree:\n",
       "Vertex: world (root)\n",
       "  Vertex: upper_link, Edge: shoulder\n",
       "    Vertex: lower_link, Edge: elbow\n",
       "No non-tree joints."
      ]
     },
     "execution_count": 4,
     "metadata": {},
     "output_type": "execute_result"
    }
   ],
   "source": [
    "T = Sym # the 'scalar type' of the Mechanism we'll construct\n",
    "axis = SVector(zero(T), one(T), zero(T)) # axis of rotation for each of the joints\n",
    "double_pendulum = Mechanism(RigidBody{T}(\"world\"); gravity = SVector(zero(T), zero(T), g))\n",
    "world = root_body(double_pendulum) # the fixed 'world' rigid body\n",
    "\n",
    "# Attach the first (upper) link to the world via a revolute joint named 'shoulder'\n",
    "inertia1 = SpatialInertia(CartesianFrame3D(\"upper_link\"), moment=I_1 * axis * axis', com=SVector(zero(T), zero(T), c_1), mass=m_1)\n",
    "body1 = RigidBody(inertia1)\n",
    "joint1 = Joint(\"shoulder\", Revolute(axis))\n",
    "joint1_to_world = one(Transform3D{T}, frame_before(joint1), default_frame(world));\n",
    "attach!(double_pendulum, world, body1, joint1, joint_pose = joint1_to_world);\n",
    "\n",
    "# Attach the second (lower) link to the world via a revolute joint named 'elbow'\n",
    "inertia2 = SpatialInertia(CartesianFrame3D(\"lower_link\"), moment=I_2 * axis * axis', com=SVector(zero(T), zero(T), c_2), mass=m_2)\n",
    "body2 = RigidBody(inertia2)\n",
    "joint2 = Joint(\"elbow\", Revolute(axis))\n",
    "joint2_to_body1 = Transform3D(frame_before(joint2), default_frame(body1), SVector(zero(T), zero(T), l_1))\n",
    "attach!(double_pendulum, body1, body2, joint2, joint_pose = joint2_to_body1)"
   ]
  },
  {
   "cell_type": "markdown",
   "metadata": {},
   "source": [
    "## Create `MechanismState` associated with the double pendulum `Mechanism`\n",
    "\n",
    "A `MechanismState` stores all state-dependent information associated with a `Mechanism`."
   ]
  },
  {
   "cell_type": "code",
   "execution_count": 5,
   "metadata": {},
   "outputs": [],
   "source": [
    "x = MechanismState(double_pendulum);"
   ]
  },
  {
   "cell_type": "code",
   "execution_count": 6,
   "metadata": {},
   "outputs": [],
   "source": [
    "# Set the joint configuration vector of the MechanismState to a new vector of symbolic variables\n",
    "q = configuration(x)\n",
    "for i in eachindex(q)\n",
    "    q[i] = symbols(\"q_$i\", real = true)\n",
    "end"
   ]
  },
  {
   "cell_type": "code",
   "execution_count": 7,
   "metadata": {},
   "outputs": [],
   "source": [
    "# Set the joint velocity vector of the MechanismState to a new vector of symbolic variables\n",
    "v = velocity(x)\n",
    "for i in eachindex(v)\n",
    "    v[i] = symbols(\"v_$i\", real = true)\n",
    "end"
   ]
  },
  {
   "cell_type": "markdown",
   "metadata": {},
   "source": [
    "## Compute dynamical quantities in symbolic form"
   ]
  },
  {
   "cell_type": "code",
   "execution_count": 8,
   "metadata": {},
   "outputs": [
    {
     "data": {
      "text/latex": [
       "\\begin{bmatrix}I_{1} + I_{2} + 2 c_{2} l_{1} m_{2} \\cos{\\left (q_{2} \\right )} + l_{1}^{2} m_{2}&I_{2} + c_{2} l_{1} m_{2} \\cos{\\left (q_{2} \\right )}\\\\I_{2} + c_{2} l_{1} m_{2} \\cos{\\left (q_{2} \\right )}&I_{2}\\end{bmatrix}"
      ],
      "text/plain": [
       "2×2 Array{Sym,2}:\n",
       " I_1 + I_2 + 2*c_2*l_1*m_2*cos(q_2) + l_1^2*m_2  I_2 + c_2*l_1*m_2*cos(q_2)\n",
       "                     I_2 + c_2*l_1*m_2*cos(q_2)                         I_2"
      ]
     },
     "execution_count": 8,
     "metadata": {},
     "output_type": "execute_result"
    }
   ],
   "source": [
    "# Mass matrix\n",
    "simplify.(mass_matrix(x))"
   ]
  },
  {
   "cell_type": "code",
   "execution_count": 9,
   "metadata": {
    "scrolled": false
   },
   "outputs": [
    {
     "data": {
      "text/latex": [
       "\\begin{equation*}\\frac{I_{1} v_{1}^{2}}{2} + \\frac{I_{2} v_{1}^{2}}{2} + I_{2} v_{1} v_{2} + \\frac{I_{2} v_{2}^{2}}{2} + c_{2} l_{1} m_{2} v_{1}^{2} \\cos{\\left (q_{2} \\right )} + c_{2} l_{1} m_{2} v_{1} v_{2} \\cos{\\left (q_{2} \\right )} + \\frac{l_{1}^{2} m_{2} v_{1}^{2}}{2}\\end{equation*}"
      ],
      "text/plain": [
       "     2        2                   2                                           \n",
       "I₁⋅v₁    I₂⋅v₁               I₂⋅v₂               2                            \n",
       "────── + ────── + I₂⋅v₁⋅v₂ + ────── + c₂⋅l₁⋅m₂⋅v₁ ⋅cos(q₂) + c₂⋅l₁⋅m₂⋅v₁⋅v₂⋅co\n",
       "  2        2                   2                                              \n",
       "\n",
       "          2      2\n",
       "        l₁ ⋅m₂⋅v₁ \n",
       "s(q₂) + ──────────\n",
       "            2     "
      ]
     },
     "execution_count": 9,
     "metadata": {},
     "output_type": "execute_result"
    }
   ],
   "source": [
    "# Kinetic energy\n",
    "simplify(kinetic_energy(x))"
   ]
  },
  {
   "cell_type": "code",
   "execution_count": 10,
   "metadata": {},
   "outputs": [
    {
     "data": {
      "text/latex": [
       "\\begin{equation*}- g \\left(c_{1} m_{1} \\cos{\\left (q_{1} \\right )} + c_{2} m_{2} \\cos{\\left (q_{1} + q_{2} \\right )} + l_{1} m_{2} \\cos{\\left (q_{1} \\right )}\\right)\\end{equation*}"
      ],
      "text/plain": [
       "-g⋅(c₁⋅m₁⋅cos(q₁) + c₂⋅m₂⋅cos(q₁ + q₂) + l₁⋅m₂⋅cos(q₁))"
      ]
     },
     "execution_count": 10,
     "metadata": {},
     "output_type": "execute_result"
    }
   ],
   "source": [
    "# Potential energy\n",
    "simplify(gravitational_potential_energy(x))"
   ]
  },
  {
   "cell_type": "code",
   "execution_count": null,
   "metadata": {},
   "outputs": [],
   "source": []
  }
 ],
 "metadata": {
  "kernelspec": {
   "display_name": "Julia 1.0.3",
   "language": "julia",
   "name": "julia-1.0"
  },
  "language_info": {
   "file_extension": ".jl",
   "mimetype": "application/julia",
   "name": "julia",
   "version": "1.0.3"
  }
 },
 "nbformat": 4,
 "nbformat_minor": 2
}
